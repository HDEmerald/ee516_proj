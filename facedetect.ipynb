{
 "cells": [
  {
   "cell_type": "markdown",
   "id": "6b42135c-1e7f-46ed-a2ae-8c844c76fca5",
   "metadata": {},
   "source": [
    "1. Setup and Get Data"
   ]
  },
  {
   "cell_type": "markdown",
   "id": "6fc11a9d-a057-4ccf-b4ac-6327e823b307",
   "metadata": {},
   "source": [
    "1.1 Install Dependencies and Setup"
   ]
  },
  {
   "cell_type": "code",
   "execution_count": null,
   "id": "bc94fb12-5575-4eb8-8cd8-bce5a2dd0f2f",
   "metadata": {},
   "outputs": [],
   "source": [
    "!pip install labelme tensorflow opencv-python matplotlib albumentations"
   ]
  },
  {
   "cell_type": "markdown",
   "id": "5016493a-598e-4874-bbf5-35219040d111",
   "metadata": {},
   "source": [
    "1.2 Collect Images Using OpenCV (just use something from Kaggle)"
   ]
  }
 ],
 "metadata": {
  "kernelspec": {
   "display_name": "facedetect",
   "language": "python",
   "name": "facedetect"
  },
  "language_info": {
   "codemirror_mode": {
    "name": "ipython",
    "version": 3
   },
   "file_extension": ".py",
   "mimetype": "text/x-python",
   "name": "python",
   "nbconvert_exporter": "python",
   "pygments_lexer": "ipython3",
   "version": "3.8.10"
  }
 },
 "nbformat": 4,
 "nbformat_minor": 5
}
